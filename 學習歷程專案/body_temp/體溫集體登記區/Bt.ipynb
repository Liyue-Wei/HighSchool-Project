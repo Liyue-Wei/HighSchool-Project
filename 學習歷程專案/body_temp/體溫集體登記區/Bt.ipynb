{
 "cells": [
  {
   "cell_type": "code",
   "execution_count": 1,
   "metadata": {},
   "outputs": [
    {
     "name": "stdout",
     "output_type": "stream",
     "text": [
      "15\n"
     ]
    },
    {
     "name": "stderr",
     "output_type": "stream",
     "text": [
      "C:\\Users\\eric2\\AppData\\Local\\Temp\\ipykernel_22876\\425071151.py:42: DeprecationWarning: find_element_by_* commands are deprecated. Please use find_element() instead\n",
      "  element_input = driver.find_element_by_xpath(\"/html/body/form/div[3]/table[2]/tbody/tr[1]/td/input[1]\").send_keys(ID)\n",
      "C:\\Users\\eric2\\AppData\\Local\\Temp\\ipykernel_22876\\425071151.py:43: DeprecationWarning: find_element_by_* commands are deprecated. Please use find_element() instead\n",
      "  element_button = driver.find_element_by_xpath(\"/html/body/form/div[3]/table[2]/tbody/tr[1]/td/input[2]\").click()\n",
      "C:\\Users\\eric2\\AppData\\Local\\Temp\\ipykernel_22876\\425071151.py:46: DeprecationWarning: find_element_by_* commands are deprecated. Please use find_element() instead\n",
      "  element_selector_1 = driver.find_element_by_xpath(\"/html/body/form/div[3]/table[2]/tbody/tr[2]/td/span[2]/input[2]\").click()\n",
      "C:\\Users\\eric2\\AppData\\Local\\Temp\\ipykernel_22876\\425071151.py:47: DeprecationWarning: find_element_by_* commands are deprecated. Please use find_element() instead\n",
      "  element_selector_2 = driver.find_element_by_xpath(\"/html/body/form/div[3]/table[2]/tbody/tr[2]/td/select[1]\").send_keys(rand_1)\n",
      "C:\\Users\\eric2\\AppData\\Local\\Temp\\ipykernel_22876\\425071151.py:48: DeprecationWarning: find_element_by_* commands are deprecated. Please use find_element() instead\n",
      "  element_selector_3 = driver.find_element_by_xpath(\"/html/body/form/div[3]/table[2]/tbody/tr[2]/td/select[2]\").send_keys(rand_2)\n",
      "C:\\Users\\eric2\\AppData\\Local\\Temp\\ipykernel_22876\\425071151.py:49: DeprecationWarning: find_element_by_* commands are deprecated. Please use find_element() instead\n",
      "  element_selector_4 = driver.find_element_by_xpath(\"/html/body/form/div[3]/table[2]/tbody/tr[2]/td/select[3]\").send_keys(\"正常\")\n",
      "C:\\Users\\eric2\\AppData\\Local\\Temp\\ipykernel_22876\\425071151.py:50: DeprecationWarning: find_element_by_* commands are deprecated. Please use find_element() instead\n",
      "  element_button_2 = driver.find_element_by_xpath(\"/html/body/form/div[3]/table[2]/tbody/tr[2]/td/input\").click()\n"
     ]
    },
    {
     "name": "stdout",
     "output_type": "stream",
     "text": [
      "0\n",
      "1\n",
      "2\n",
      "3\n",
      "4\n",
      "5\n",
      "6\n",
      "7\n",
      "8\n",
      "9\n",
      "10\n",
      "11\n",
      "12\n",
      "13\n",
      "14\n"
     ]
    }
   ],
   "source": [
    "from selenium import webdriver\n",
    "import random\n",
    "import pyautogui\n",
    "import time\n",
    "import email.message\n",
    "import smtplib\n",
    "\n",
    "msg = email.message.EmailMessage()\n",
    "msg[\"From\"] = \"eric20050107@gmail.com\"\n",
    "driver = webdriver.Chrome()\n",
    "\n",
    "global ID, url, ID_list, times, count\n",
    "url = \"https://webap1.kshs.kh.edu.tw/kshsSSO/publicWebAP/bodyTemp/index.aspx\"\n",
    "ID_list = [\"E126233657\", \"E126108588\", \"E125478018\", \"E126136591\", \"E126136911\", \"E125489922\", \"E126318600\", \"E125738206\", \"E126101392\", \"S125815012\", \"S125461863\", \"E125723910\", \"X120638072\", \"E126251128\", \"E126251860\"]\n",
    "email = [\"danielwqq@gmail.com\", \"brianwang72@gmail.com\", \"hang65989@gmail.com\", \"zack40091647@gmail.com\", \"chenray2005221@gmail.com\", \"wiwi805008@gmail.com\", \"durant931126@gmail.com\", \"a0911880586@gmail.com\", \"eric20050107@gmail.com\", \"JJason940519@gmail.com\", \"gan940724@gmail.com\", \"hongjieliu473@gmail.com\", \"yyenryan20041229@gmail.com\", \"moujinwei97@gmail.com\", \"bob931010@gmail.com\"]\n",
    "count = len(ID_list)  \n",
    "print(count)\n",
    "\n",
    "def email_send(times):\n",
    "    msg[\"Subject\"] = \"高雄中學體溫填報系統\"\n",
    "    msg[\"To\"] = email[times]\n",
    "    \n",
    "    msg_time = time.strftime(\"%Y-%m-%d %H:%M:%S\", time.localtime())\n",
    "    msg.set_content(\"體溫 \"+ str(rand_1)+ \".\"+ str(rand_2)+ \"°C 已於 \"+ msg_time+ \" 完成填報\")\n",
    "    \n",
    "    server = smtplib.SMTP_SSL(\"smtp.gmail.com\", 465)\n",
    "    server.login(\"eric20050107@gmail.com\", \"DEWsso44\")\n",
    "    server.send_message(msg)\n",
    "    server.close()\n",
    "    \n",
    "for times in range (0, count):\n",
    "    ID = ID_list[times]\n",
    "    \n",
    "    class rand_temp:\n",
    "        driver.get(url)\n",
    "        global rand_1, rand_2\n",
    "        rand_1 = random.randint(35, 36)\n",
    "        rand_2 = random.randint(0, 9)\n",
    "\n",
    "    class Program:\n",
    "        class part_1:\n",
    "            element_input = driver.find_element_by_xpath(\"/html/body/form/div[3]/table[2]/tbody/tr[1]/td/input[1]\").send_keys(ID)\n",
    "            element_button = driver.find_element_by_xpath(\"/html/body/form/div[3]/table[2]/tbody/tr[1]/td/input[2]\").click()\n",
    "        \n",
    "        class part_2:\n",
    "            element_selector_1 = driver.find_element_by_xpath(\"/html/body/form/div[3]/table[2]/tbody/tr[2]/td/span[2]/input[2]\").click()\n",
    "            element_selector_2 = driver.find_element_by_xpath(\"/html/body/form/div[3]/table[2]/tbody/tr[2]/td/select[1]\").send_keys(rand_1)\n",
    "            element_selector_3 = driver.find_element_by_xpath(\"/html/body/form/div[3]/table[2]/tbody/tr[2]/td/select[2]\").send_keys(rand_2)\n",
    "            element_selector_4 = driver.find_element_by_xpath(\"/html/body/form/div[3]/table[2]/tbody/tr[2]/td/select[3]\").send_keys(\"正常\")\n",
    "            element_button_2 = driver.find_element_by_xpath(\"/html/body/form/div[3]/table[2]/tbody/tr[2]/td/input\").click()\n",
    "        \n",
    "        class part_3:\n",
    "            email_send(times)\n",
    "            msg.clear()\n",
    "\n",
    "        class part_4:\n",
    "            print(times)\n",
    "            pyautogui.hotkey(\"enter\")\n",
    "            time.sleep(1)\n",
    "            pyautogui.hotkey(\"ctrl\", \"t\")        \n",
    "            driver.switch_to.window(driver.window_handles[times+1])\n",
    "   \n",
    "driver.quit()"
   ]
  }
 ],
 "metadata": {
  "interpreter": {
   "hash": "4d009a73fb97cfda26986cb828df01bc0b301c5f3306ea237a59240d5f089f6c"
  },
  "kernelspec": {
   "display_name": "Python 3.10.2 64-bit",
   "language": "python",
   "name": "python3"
  },
  "language_info": {
   "codemirror_mode": {
    "name": "ipython",
    "version": 3
   },
   "file_extension": ".py",
   "mimetype": "text/x-python",
   "name": "python",
   "nbconvert_exporter": "python",
   "pygments_lexer": "ipython3",
   "version": "3.10.2"
  },
  "orig_nbformat": 4
 },
 "nbformat": 4,
 "nbformat_minor": 2
}

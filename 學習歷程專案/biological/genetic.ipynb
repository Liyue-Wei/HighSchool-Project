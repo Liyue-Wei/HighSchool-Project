{
 "cells": [
  {
   "cell_type": "code",
   "execution_count": 1,
   "metadata": {},
   "outputs": [],
   "source": [
    "from calendar import day_name\n",
    "import tkinter as tk\n",
    "import ttkbootstrap as ttk\n",
    "# from ttkbootstrap.constants import *\n",
    "\n",
    "win = ttk.Window(themename=\"cosmo\")\n",
    "win.geometry(\"1000x380\")\n",
    "win.title(\"Genetic Translator\")\n",
    "\n",
    "global untranslated_dna, translated_mrna, dna_input\n",
    "untranslated_dna = []\n",
    "translating = []\n",
    "translated_mrna = []\n",
    "dna_input = []\n",
    "# \n",
    "# def translation():  \n",
    "#     untranslated_dna = list(dna_input.get())\n",
    "#     count = len(untranslated_dna)\n",
    "# \n",
    "#     for num in range(0, count, 1):\n",
    "#         translating.append(untranslated_dna[num])\n",
    "# \n",
    "#     for num in range(0, count, 1):\n",
    "#         if translating[num] == \"A\":\n",
    "#             translated_mrna.append(\"U\")\n",
    "# \n",
    "#         elif translating[num] == \"T\":\n",
    "#             translated_mrna.append(\"A\")\n",
    "# \n",
    "#         elif translating[num] == \"C\":\n",
    "#             translated_mrna.append(\"G\")\n",
    "# \n",
    "#         elif translating[num] == \"G\":\n",
    "#             translated_mrna.append(\"C\")\n",
    "# \n",
    "#         else:\n",
    "#             translated_mrna = False\n",
    "# \n",
    "class GUI_interface():\n",
    "    dna_input = tk.StringVar()\n",
    "    label_1 = ttk.Label(win, text=\"輸入未轉譯DNA序列\", bootstyle=\"cosmo\", font=(\"微軟正黑體\", 18)).place(x=10, y=10)\n",
    "    entry_1 = ttk.Entry(win, width=27, bootstyle=\"cosmo\", font=(\"微軟正黑體\", 20), textvariable=dna_input).place(x=10, y=80)\n",
    "    label_2 = ttk.Label(win, text=\"轉譯完成之RNA序列\", bootstyle=\"cosmo\", font=(\"微軟正黑體\", 18)).place(x=10, y=170)\n",
    "    entry_2 = ttk.Label(win, bootstyle=\"cosmo\", font=(\"微軟正黑體\", 20)).place(x=10, y=305)\n",
    "    button_1 = tk.Button(win, text=\"Enter\", font=(\"微軟正黑體\", 14)).place(x=870, y=80)\n",
    "    \n",
    "    \n",
    "win.mainloop()"
   ]
  }
 ],
 "metadata": {
  "interpreter": {
   "hash": "4d009a73fb97cfda26986cb828df01bc0b301c5f3306ea237a59240d5f089f6c"
  },
  "kernelspec": {
   "display_name": "Python 3.10.2 64-bit",
   "language": "python",
   "name": "python3"
  },
  "language_info": {
   "codemirror_mode": {
    "name": "ipython",
    "version": 3
   },
   "file_extension": ".py",
   "mimetype": "text/x-python",
   "name": "python",
   "nbconvert_exporter": "python",
   "pygments_lexer": "ipython3",
   "version": "3.10.2"
  },
  "orig_nbformat": 4
 },
 "nbformat": 4,
 "nbformat_minor": 2
}
